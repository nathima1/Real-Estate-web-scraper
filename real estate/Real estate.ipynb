{
 "cells": [
  {
   "cell_type": "code",
   "execution_count": 2,
   "metadata": {},
   "outputs": [],
   "source": [
    "from bs4 import BeautifulSoup\n",
    "import pandas\n",
    "import csv\n",
    "import requests\n",
    "\n",
    "r = requests.get(\"http://www.pyclass.com/real-estate/rock-springs-wy/LCWYROCKSPRINGS/\", headers={'User-agent': 'Mozilla/5.0 (X11; Ubuntu; Linux x86_64; rv:61.0) Gecko/20100101 Firefox/61.0'})\n",
    "c=r.content\n",
    "\n",
    "soup = BeautifulSoup(c,'html.parser')\n",
    "\n",
    "all = soup.find_all('div',{'class':'propertyRow'})\n",
    "\n",
    "\n",
    "all[0].find('h4',{'class':'propPrice'}).text.replace('\\n','').replace(' ','')"
   ]
  },
  {
   "cell_type": "code",
   "execution_count": 58,
   "metadata": {},
   "outputs": [
    {
     "name": "stdout",
     "output_type": "stream",
     "text": [
      "http://www.pyclass.com/real-estate/rock-springs-wy/LCWYROCKSPRINGS/#t=0&s=0.html\n",
      "http://www.pyclass.com/real-estate/rock-springs-wy/LCWYROCKSPRINGS/#t=0&s=10.html\n",
      "http://www.pyclass.com/real-estate/rock-springs-wy/LCWYROCKSPRINGS/#t=0&s=20.html\n"
     ]
    }
   ],
   "source": [
    "l=[]\n",
    "base_url= \"http://www.pyclass.com/real-estate/rock-springs-wy/LCWYROCKSPRINGS/#t=0&s=\"    \n",
    "for page in range(0,30,10):\n",
    "    print(base_url+str(page)+\".html\")\n",
    "    r=requests.get(base_url+str(page)+\".html\")\n",
    "    c=r.content\n",
    "    soup=BeautifulSoup(c,'html.parser')\n",
    "    all = soup.find_all('div',{'class':'propertyRow'})\n",
    "    for item in all:\n",
    "        d={}\n",
    "        d['Price']=item.find('h4',{'class':'propPrice'}).text.replace('\\n','').replace(' ','')\n",
    "        d['Address']=item.find_all('span',{'class':'propAddressCollapse'})[0].text\n",
    "        try:\n",
    "            d['Locality']=item.find_all('span',{'class':'propAddressCollapse'})[1].text\n",
    "        except:\n",
    "            d['Locality']=None\n",
    "        try:\n",
    "            d['Beds']=item.find('span',{'class':'infoBed'}).find('b').text\n",
    "        except:\n",
    "            d['Beds']=None\n",
    "\n",
    "        try:\n",
    "            d['Area']=item.find('span',{'class':'infoSqft'}).find('b').text\n",
    "        except:\n",
    "            d['Area']=None\n",
    "\n",
    "        try:\n",
    "            d['Full Baths']=item.find('span',{'class':'infoValueFullBath'}).find('b').text\n",
    "        except:\n",
    "            d['Full Baths']=None\n",
    "\n",
    "        try:\n",
    "            d['Half Bath']=item.find('span',{'class':'infoValueHalfBath'}).find('b').text\n",
    "        except:\n",
    "            d['Half Bath']=None\n",
    "\n",
    "        for column_group in item.find_all('div', {'class':'columnGroup'}):\n",
    "            for feature, feature_name in zip(column_group.find_all('span', {'class':'featureGroup'}), column_group.find_all('span',{'class':'featureName'})):\n",
    "                if 'Lot Size' in feature.text:\n",
    "                    d['Lot Size']=feature_name.text\n",
    "\n",
    "        l.append(d)\n",
    "\n",
    "      \n",
    "    "
   ]
  },
  {
   "cell_type": "code",
   "execution_count": 59,
   "metadata": {},
   "outputs": [
    {
     "data": {
      "text/plain": [
       "[]"
      ]
     },
     "execution_count": 59,
     "metadata": {},
     "output_type": "execute_result"
    }
   ],
   "source": [
    "l"
   ]
  },
  {
   "cell_type": "code",
   "execution_count": 56,
   "metadata": {},
   "outputs": [],
   "source": [
    "df = pandas.DataFrame(l)"
   ]
  },
  {
   "cell_type": "code",
   "execution_count": 57,
   "metadata": {
    "scrolled": false
   },
   "outputs": [
    {
     "data": {
      "text/html": [
       "<div>\n",
       "<style scoped>\n",
       "    .dataframe tbody tr th:only-of-type {\n",
       "        vertical-align: middle;\n",
       "    }\n",
       "\n",
       "    .dataframe tbody tr th {\n",
       "        vertical-align: top;\n",
       "    }\n",
       "\n",
       "    .dataframe thead th {\n",
       "        text-align: right;\n",
       "    }\n",
       "</style>\n",
       "<table border=\"1\" class=\"dataframe\">\n",
       "  <thead>\n",
       "    <tr style=\"text-align: right;\">\n",
       "      <th></th>\n",
       "      <th>Price</th>\n",
       "      <th>Address</th>\n",
       "      <th>Locality</th>\n",
       "      <th>Beds</th>\n",
       "      <th>Area</th>\n",
       "      <th>Full Baths</th>\n",
       "      <th>Half Bath</th>\n",
       "      <th>Lot Size</th>\n",
       "    </tr>\n",
       "  </thead>\n",
       "  <tbody>\n",
       "    <tr>\n",
       "      <th>0</th>\n",
       "      <td>$196,900</td>\n",
       "      <td>4 Minnies Lane</td>\n",
       "      <td>Rock Springs, WY 82901</td>\n",
       "      <td>3</td>\n",
       "      <td>None</td>\n",
       "      <td>2</td>\n",
       "      <td>None</td>\n",
       "      <td>2.02 Acres</td>\n",
       "    </tr>\n",
       "    <tr>\n",
       "      <th>1</th>\n",
       "      <td>$196,900</td>\n",
       "      <td>4 Minnies Lane</td>\n",
       "      <td>Rock Springs, WY 82901</td>\n",
       "      <td>3</td>\n",
       "      <td>None</td>\n",
       "      <td>2</td>\n",
       "      <td>None</td>\n",
       "      <td>2.02 Acres</td>\n",
       "    </tr>\n",
       "    <tr>\n",
       "      <th>2</th>\n",
       "      <td>$196,900</td>\n",
       "      <td>4 Minnies Lane</td>\n",
       "      <td>Rock Springs, WY 82901</td>\n",
       "      <td>3</td>\n",
       "      <td>None</td>\n",
       "      <td>2</td>\n",
       "      <td>None</td>\n",
       "      <td>2.02 Acres</td>\n",
       "    </tr>\n",
       "  </tbody>\n",
       "</table>\n",
       "</div>"
      ],
      "text/plain": [
       "      Price         Address                Locality Beds  Area Full Baths  \\\n",
       "0  $196,900  4 Minnies Lane  Rock Springs, WY 82901    3  None          2   \n",
       "1  $196,900  4 Minnies Lane  Rock Springs, WY 82901    3  None          2   \n",
       "2  $196,900  4 Minnies Lane  Rock Springs, WY 82901    3  None          2   \n",
       "\n",
       "  Half Bath    Lot Size  \n",
       "0      None  2.02 Acres  \n",
       "1      None  2.02 Acres  \n",
       "2      None  2.02 Acres  "
      ]
     },
     "execution_count": 57,
     "metadata": {},
     "output_type": "execute_result"
    }
   ],
   "source": [
    "df"
   ]
  },
  {
   "cell_type": "code",
   "execution_count": 53,
   "metadata": {},
   "outputs": [],
   "source": [
    "df.to_csv('realestate.csv')"
   ]
  },
  {
   "cell_type": "code",
   "execution_count": null,
   "metadata": {},
   "outputs": [],
   "source": []
  }
 ],
 "metadata": {
  "kernelspec": {
   "display_name": "Python 3",
   "language": "python",
   "name": "python3"
  },
  "language_info": {
   "codemirror_mode": {
    "name": "ipython",
    "version": 3
   },
   "file_extension": ".py",
   "mimetype": "text/x-python",
   "name": "python",
   "nbconvert_exporter": "python",
   "pygments_lexer": "ipython3",
   "version": "3.8.1"
  }
 },
 "nbformat": 4,
 "nbformat_minor": 4
}
